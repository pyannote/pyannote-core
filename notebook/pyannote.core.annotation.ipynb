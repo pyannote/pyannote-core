{
 "cells": [
  {
   "cell_type": "code",
   "execution_count": 2,
   "metadata": {
    "collapsed": false,
    "jupyter": {
     "outputs_hidden": false
    }
   },
   "outputs": [
    {
     "name": "stdout",
     "output_type": "stream",
     "text": [
      "Populating the interactive namespace from numpy and matplotlib\n"
     ]
    }
   ],
   "source": [
    "%pylab inline"
   ]
  },
  {
   "cell_type": "markdown",
   "metadata": {},
   "source": [
    "# Annotation (`pyannote.core.annotation.Annotation`)"
   ]
  },
  {
   "cell_type": "code",
   "execution_count": 3,
   "metadata": {
    "collapsed": false,
    "jupyter": {
     "outputs_hidden": false
    }
   },
   "outputs": [],
   "source": [
    "from pyannote.core import Annotation"
   ]
  },
  {
   "cell_type": "markdown",
   "metadata": {},
   "source": [
    "\n",
    "**`Annotation`** instances are used to describe sets of annotated temporal fragments.  \n",
    "For instance, one can use an **`Annotation`** to store the result of speaker identification approach applied on an episode of *The Big Bang Theory* TV series."
   ]
  },
  {
   "cell_type": "code",
   "execution_count": 4,
   "metadata": {
    "collapsed": false,
    "jupyter": {
     "outputs_hidden": false
    }
   },
   "outputs": [],
   "source": [
    "annotation = Annotation(\n",
    "    uri='TheBigBangTheory.Season01.Episode01', \n",
    "    modality='speaker'\n",
    ")"
   ]
  },
  {
   "cell_type": "markdown",
   "metadata": {},
   "source": [
    "For instance, to represent a dialogue between Penny and Leonard, we could do the following:"
   ]
  },
  {
   "cell_type": "code",
   "execution_count": 5,
   "metadata": {
    "collapsed": false,
    "jupyter": {
     "outputs_hidden": false
    }
   },
   "outputs": [
    {
     "data": {
      "image/png": "[encoded data removed]",
      "text/plain": [
       "<pyannote.core.annotation.Annotation at 0x7fb38aeeda50>"
      ]
     },
     "execution_count": 5,
     "metadata": {},
     "output_type": "execute_result"
    }
   ],
   "source": [
    "from pyannote.core import Segment\n",
    "annotation[Segment(3, 5)] = 'Penny'\n",
    "annotation[Segment(5.5, 7)] = 'Leonard'\n",
    "annotation[Segment(8, 10)] = 'Penny'\n",
    "annotation"
   ]
  },
  {
   "cell_type": "markdown",
   "metadata": {},
   "source": [
    "Now, suppose (super-annoying) Sheldon speaks over Penny's second speech turn."
   ]
  },
  {
   "cell_type": "code",
   "execution_count": 6,
   "metadata": {
    "collapsed": false,
    "jupyter": {
     "outputs_hidden": false
    }
   },
   "outputs": [
    {
     "data": {
      "image/png": "[encoded data removed]",
      "text/plain": [
       "<pyannote.core.annotation.Annotation at 0x7fb38aeeda50>"
      ]
     },
     "execution_count": 6,
     "metadata": {},
     "output_type": "execute_result"
    }
   ],
   "source": [
    "annotation[Segment(8, 10)] = 'Sheldon'\n",
    "annotation"
   ]
  },
  {
   "cell_type": "markdown",
   "metadata": {},
   "source": [
    "Damn, Sheldon! That's not what we wanted! We did not want to replace Penny by Sheldon. Instead, we wanted to show that both characters are speaking at the very same time.  \n",
    "To achieve this, we need to create a new track for the same segment."
   ]
  },
  {
   "cell_type": "code",
   "execution_count": 7,
   "metadata": {
    "collapsed": false,
    "jupyter": {
     "outputs_hidden": false
    }
   },
   "outputs": [
    {
     "data": {
      "image/png": "[encoded data removed]",
      "text/plain": [
       "<pyannote.core.annotation.Annotation at 0x7fb38aeeda50>"
      ]
     },
     "execution_count": 7,
     "metadata": {},
     "output_type": "execute_result"
    }
   ],
   "source": [
    "segment = Segment(8, 10)\n",
    "annotation[segment, annotation.new_track(segment)] = 'Penny'\n",
    "annotation"
   ]
  },
  {
   "cell_type": "markdown",
   "metadata": {},
   "source": [
    "That's much better!\n",
    "A track cannot be identified by a segment alone: it is uniquely identified by a 2-tuple (segment, track_identifier)."
   ]
  },
  {
   "cell_type": "markdown",
   "metadata": {},
   "source": [
    "In fact, the **new_track** method is simply an helper function to help you generate new track identifiers for a given segment.\n",
    "And the previous lines are in fact shortcuts for the following:"
   ]
  },
  {
   "cell_type": "code",
   "execution_count": 8,
   "metadata": {
    "collapsed": false,
    "jupyter": {
     "outputs_hidden": false
    }
   },
   "outputs": [
    {
     "data": {
      "image/png": "[encoded data removed]",
      "text/plain": [
       "<pyannote.core.annotation.Annotation at 0x7fb38ac27910>"
      ]
     },
     "execution_count": 8,
     "metadata": {},
     "output_type": "execute_result"
    }
   ],
   "source": [
    "annotation = Annotation(\n",
    "    uri='TheBigBangTheory.Season01.Episode01', \n",
    "    modality='speaker'\n",
    ")\n",
    "annotation[Segment(3, 5), '_'] = 'Penny'\n",
    "annotation[Segment(5.5, 7), '_',] = 'Leonard'\n",
    "annotation[Segment(8, 10), '_'] = 'Penny'\n",
    "annotation[Segment(8, 10), 'anything'] = 'Sheldon'\n",
    "annotation"
   ]
  },
  {
   "cell_type": "markdown",
   "metadata": {},
   "source": [
    "`_` is the default track identifier (in case you are sure that each segment has only one associated track).  Generally, you should avoid using the shortcut `annotation[segment]` and always add a track identifier of your choosing. "
   ]
  },
  {
   "cell_type": "markdown",
   "metadata": {},
   "source": [
    "## Iterating over segments, tracks and/or labels"
   ]
  },
  {
   "cell_type": "code",
   "execution_count": 9,
   "metadata": {
    "collapsed": false,
    "jupyter": {
     "outputs_hidden": false
    }
   },
   "outputs": [
    {
     "name": "stdout",
     "output_type": "stream",
     "text": [
      "[ 00:00:03.000 -->  00:00:05.000]\n",
      "[ 00:00:05.500 -->  00:00:07.000]\n",
      "[ 00:00:08.000 -->  00:00:10.000]\n"
     ]
    }
   ],
   "source": [
    "for segment in annotation.itersegments():\n",
    "    print(segment)"
   ]
  },
  {
   "cell_type": "code",
   "execution_count": 10,
   "metadata": {
    "collapsed": false,
    "jupyter": {
     "outputs_hidden": false
    }
   },
   "outputs": [
    {
     "name": "stdout",
     "output_type": "stream",
     "text": [
      "[ 00:00:03.000 -->  00:00:05.000] _\n",
      "[ 00:00:05.500 -->  00:00:07.000] _\n",
      "[ 00:00:08.000 -->  00:00:10.000] _\n",
      "[ 00:00:08.000 -->  00:00:10.000] anything\n"
     ]
    }
   ],
   "source": [
    "for segment, track in annotation.itertracks():\n",
    "    print(segment, track)"
   ]
  },
  {
   "cell_type": "code",
   "execution_count": 11,
   "metadata": {
    "collapsed": false,
    "jupyter": {
     "outputs_hidden": false
    }
   },
   "outputs": [
    {
     "name": "stdout",
     "output_type": "stream",
     "text": [
      "[ 00:00:03.000 -->  00:00:05.000] _ Penny\n",
      "[ 00:00:05.500 -->  00:00:07.000] _ Leonard\n",
      "[ 00:00:08.000 -->  00:00:10.000] _ Penny\n",
      "[ 00:00:08.000 -->  00:00:10.000] anything Sheldon\n"
     ]
    }
   ],
   "source": [
    "for segment, track, label in annotation.itertracks(yield_label=True):\n",
    "    print(segment, track, label)"
   ]
  },
  {
   "cell_type": "markdown",
   "metadata": {},
   "source": [
    "## Dealing with segments"
   ]
  },
  {
   "cell_type": "markdown",
   "metadata": {},
   "source": [
    "One can use the **get_timeline** method to obtain a [timeline](pyannote.core.timeline.ipynb) made of all segments (not tracks!) in the annotation"
   ]
  },
  {
   "cell_type": "code",
   "execution_count": 11,
   "metadata": {
    "collapsed": false,
    "jupyter": {
     "outputs_hidden": false
    }
   },
   "outputs": [
    {
     "data": {
      "image/png": "[encoded data removed]",
      "text/plain": [
       "<Timeline(uri=TheBigBangTheory.Season01.Episode01, segments=[<Segment(3, 5)>, <Segment(5.5, 7)>, <Segment(8, 10)>])>"
      ]
     },
     "execution_count": 11,
     "metadata": {},
     "output_type": "execute_result"
    }
   ],
   "source": [
    "annotation.get_timeline()"
   ]
  },
  {
   "cell_type": "markdown",
   "metadata": {},
   "source": [
    "## Dealing with tracks"
   ]
  },
  {
   "cell_type": "markdown",
   "metadata": {},
   "source": [
    "Get all tracks for a given segment"
   ]
  },
  {
   "cell_type": "code",
   "execution_count": 12,
   "metadata": {
    "collapsed": false,
    "jupyter": {
     "outputs_hidden": false
    }
   },
   "outputs": [
    {
     "data": {
      "text/plain": [
       "{'_', 'anything'}"
      ]
     },
     "execution_count": 12,
     "metadata": {},
     "output_type": "execute_result"
    }
   ],
   "source": [
    "annotation.get_tracks(Segment(8, 10))"
   ]
  },
  {
   "cell_type": "markdown",
   "metadata": {},
   "source": [
    "Check whether a given track exists"
   ]
  },
  {
   "cell_type": "code",
   "execution_count": 13,
   "metadata": {
    "collapsed": false,
    "jupyter": {
     "outputs_hidden": false
    }
   },
   "outputs": [
    {
     "data": {
      "text/plain": [
       "False"
      ]
     },
     "execution_count": 13,
     "metadata": {},
     "output_type": "execute_result"
    }
   ],
   "source": [
    "annotation.has_track(Segment(8, 10), '---')"
   ]
  },
  {
   "cell_type": "markdown",
   "metadata": {},
   "source": [
    "One can re-initialize tracks as incrementing integer using **retrack** method. This also makes sure that no two tracks have the same identifier."
   ]
  },
  {
   "cell_type": "code",
   "execution_count": 12,
   "metadata": {
    "collapsed": false,
    "jupyter": {
     "outputs_hidden": false
    }
   },
   "outputs": [
    {
     "name": "stdout",
     "output_type": "stream",
     "text": [
      "[ 00:00:03.000 -->  00:00:05.000] 0\n",
      "[ 00:00:05.500 -->  00:00:07.000] 1\n",
      "[ 00:00:08.000 -->  00:00:10.000] 2\n",
      "[ 00:00:08.000 -->  00:00:10.000] 3\n"
     ]
    }
   ],
   "source": [
    "for segment, track in annotation.rename_tracks(generator='int').itertracks():\n",
    "    print(segment, track)"
   ]
  },
  {
   "cell_type": "markdown",
   "metadata": {},
   "source": [
    "## Dealing with labels"
   ]
  },
  {
   "cell_type": "markdown",
   "metadata": {},
   "source": [
    "Get (sorted) list of unique labels"
   ]
  },
  {
   "cell_type": "code",
   "execution_count": 15,
   "metadata": {
    "collapsed": false,
    "jupyter": {
     "outputs_hidden": false
    }
   },
   "outputs": [
    {
     "data": {
      "text/plain": [
       "['Leonard', 'Penny', 'Sheldon']"
      ]
     },
     "execution_count": 15,
     "metadata": {},
     "output_type": "execute_result"
    }
   ],
   "source": [
    "annotation.labels()"
   ]
  },
  {
   "cell_type": "markdown",
   "metadata": {},
   "source": [
    "List of labels for a given segment. Read the help message for more options."
   ]
  },
  {
   "cell_type": "code",
   "execution_count": 16,
   "metadata": {
    "collapsed": false,
    "jupyter": {
     "outputs_hidden": false
    }
   },
   "outputs": [
    {
     "data": {
      "text/plain": [
       "{'Penny', 'Sheldon'}"
      ]
     },
     "execution_count": 16,
     "metadata": {},
     "output_type": "execute_result"
    }
   ],
   "source": [
    "annotation.get_labels(Segment(8, 10))"
   ]
  },
  {
   "cell_type": "markdown",
   "metadata": {},
   "source": [
    "One may want to be more precise on the identiy of each speaker and replace character names by actor names. We can use **translate** to do just that:"
   ]
  },
  {
   "cell_type": "code",
   "execution_count": 17,
   "metadata": {
    "collapsed": false,
    "jupyter": {
     "outputs_hidden": false
    }
   },
   "outputs": [
    {
     "data": {
      "image/png": "[encoded data removed]",
      "text/plain": [
       "<pyannote.core.annotation.Annotation at 0x7ff3394127d0>"
      ]
     },
     "execution_count": 17,
     "metadata": {},
     "output_type": "execute_result"
    }
   ],
   "source": [
    "mapping = {'Penny': 'Kaley Cuoco', 'Sheldon': 'Jim Parsons', 'Leonard': 'Johnny Galecki'}\n",
    "annotation.rename_labels(mapping=mapping)"
   ]
  },
  {
   "cell_type": "code",
   "execution_count": 18,
   "metadata": {
    "collapsed": false,
    "jupyter": {
     "outputs_hidden": false
    }
   },
   "outputs": [
    {
     "data": {
      "image/png": "[encoded data removed]",
      "text/plain": [
       "<pyannote.core.annotation.Annotation at 0x7ff33936ea10>"
      ]
     },
     "execution_count": 18,
     "metadata": {},
     "output_type": "execute_result"
    }
   ],
   "source": [
    "# this also used to work -- but no longer does\n",
    "annotation % mapping"
   ]
  },
  {
   "cell_type": "markdown",
   "metadata": {},
   "source": [
    "## Cropping and subsetting"
   ]
  },
  {
   "cell_type": "markdown",
   "metadata": {},
   "source": [
    "The **crop** method works the same way it does for [timeline](pyannote.core.timeline.ipynb) instances."
   ]
  },
  {
   "cell_type": "code",
   "execution_count": 19,
   "metadata": {
    "collapsed": false,
    "jupyter": {
     "outputs_hidden": false
    }
   },
   "outputs": [
    {
     "data": {
      "image/png": "[encoded data removed]",
      "text/plain": [
       "<pyannote.core.annotation.Annotation at 0x7ff3397c0e50>"
      ]
     },
     "execution_count": 19,
     "metadata": {},
     "output_type": "execute_result"
    }
   ],
   "source": [
    "annotation"
   ]
  },
  {
   "cell_type": "code",
   "execution_count": 20,
   "metadata": {
    "collapsed": false,
    "jupyter": {
     "outputs_hidden": false
    }
   },
   "outputs": [
    {
     "data": {
      "image/png": "[encoded data removed]",
      "text/plain": [
       "<Segment(6, 9)>"
      ]
     },
     "execution_count": 20,
     "metadata": {},
     "output_type": "execute_result"
    }
   ],
   "source": [
    "segment = Segment(6, 9)\n",
    "segment"
   ]
  },
  {
   "cell_type": "code",
   "execution_count": 21,
   "metadata": {
    "collapsed": false,
    "jupyter": {
     "outputs_hidden": false
    }
   },
   "outputs": [
    {
     "data": {
      "image/png": "[encoded data removed]",
      "text/plain": [
       "<pyannote.core.annotation.Annotation at 0x7ff3390a0090>"
      ]
     },
     "execution_count": 21,
     "metadata": {},
     "output_type": "execute_result"
    }
   ],
   "source": [
    "annotation.crop(segment)"
   ]
  },
  {
   "cell_type": "markdown",
   "metadata": {},
   "source": [
    "The **subset** method allows to extract annotations based on their labels."
   ]
  },
  {
   "cell_type": "code",
   "execution_count": 22,
   "metadata": {
    "collapsed": false,
    "jupyter": {
     "outputs_hidden": false
    }
   },
   "outputs": [
    {
     "data": {
      "image/png": "[encoded data removed]",
      "text/plain": [
       "<pyannote.core.annotation.Annotation at 0x7ff338fd6350>"
      ]
     },
     "execution_count": 22,
     "metadata": {},
     "output_type": "execute_result"
    }
   ],
   "source": [
    "male_characters = set(['Sheldon', 'Leonard'])\n",
    "annotation.subset(male_characters)"
   ]
  },
  {
   "cell_type": "code",
   "execution_count": 23,
   "metadata": {
    "collapsed": false,
    "jupyter": {
     "outputs_hidden": false
    }
   },
   "outputs": [
    {
     "data": {
      "image/png": "[encoded data removed]",
      "text/plain": [
       "<pyannote.core.annotation.Annotation at 0x7ff338f2e150>"
      ]
     },
     "execution_count": 23,
     "metadata": {},
     "output_type": "execute_result"
    }
   ],
   "source": [
    "# all but male characters\n",
    "annotation.subset(male_characters, invert=True)"
   ]
  },
  {
   "cell_type": "markdown",
   "metadata": {},
   "source": [
    "## Analyzing annotations"
   ]
  },
  {
   "cell_type": "code",
   "execution_count": 24,
   "metadata": {
    "collapsed": false,
    "jupyter": {
     "outputs_hidden": false
    }
   },
   "outputs": [
    {
     "data": {
      "image/png": "[encoded data removed]",
      "text/plain": [
       "<Timeline(uri=TheBigBangTheory.Season01.Episode01, segments=[<Segment(3, 5)>, <Segment(8, 10)>])>"
      ]
     },
     "execution_count": 24,
     "metadata": {},
     "output_type": "execute_result"
    }
   ],
   "source": [
    "# timeline made of Penny's segments\n",
    "annotation.label_timeline('Penny')"
   ]
  },
  {
   "cell_type": "code",
   "execution_count": 25,
   "metadata": {
    "collapsed": false,
    "jupyter": {
     "outputs_hidden": false
    }
   },
   "outputs": [
    {
     "name": "stdout",
     "output_type": "stream",
     "text": [
      "Penny spoke during 4.000000 seconds\n"
     ]
    }
   ],
   "source": [
    "# total Penny's speech duration\n",
    "print 'Penny spoke during %f seconds' % annotation.label_duration('Penny')"
   ]
  },
  {
   "cell_type": "code",
   "execution_count": 26,
   "metadata": {
    "collapsed": false,
    "jupyter": {
     "outputs_hidden": false
    }
   },
   "outputs": [
    {
     "data": {
      "text/plain": [
       "[('Penny', 4), ('Sheldon', 2), ('Leonard', 1.5)]"
      ]
     },
     "execution_count": 26,
     "metadata": {},
     "output_type": "execute_result"
    }
   ],
   "source": [
    "# label chart based on their duration\n",
    "annotation.chart()"
   ]
  },
  {
   "cell_type": "code",
   "execution_count": 27,
   "metadata": {
    "collapsed": false,
    "jupyter": {
     "outputs_hidden": false
    }
   },
   "outputs": [
    {
     "data": {
      "text/plain": [
       "'Penny'"
      ]
     },
     "execution_count": 27,
     "metadata": {},
     "output_type": "execute_result"
    }
   ],
   "source": [
    "# who is the biggest speaker?\n",
    "annotation.argmax()"
   ]
  },
  {
   "cell_type": "markdown",
   "metadata": {},
   "source": [
    "## Other operations"
   ]
  },
  {
   "cell_type": "markdown",
   "metadata": {},
   "source": [
    "**co_iter** works the same way as for [timeline](pyannote.core.timeline.ipynb) except it iterates over overlapping (segment, track) tuples."
   ]
  },
  {
   "cell_type": "markdown",
   "metadata": {},
   "source": [
    "## Need help?"
   ]
  },
  {
   "cell_type": "markdown",
   "metadata": {},
   "source": [
    "You can always try the following...  \n",
    "Who knows? It might give you the information you are looking for!"
   ]
  },
  {
   "cell_type": "code",
   "execution_count": 28,
   "metadata": {
    "collapsed": false,
    "jupyter": {
     "outputs_hidden": false
    }
   },
   "outputs": [
    {
     "name": "stdout",
     "output_type": "stream",
     "text": [
      "Help on class Annotation in module pyannote.core.annotation:\n",
      "\n",
      "class Annotation(__builtin__.object)\n",
      " |  Annotation\n",
      " |  \n",
      " |  Parameters\n",
      " |  ----------\n",
      " |  uri : string, optional\n",
      " |      uniform resource identifier of annotated document\n",
      " |  modality : string, optional\n",
      " |      name of annotated modality\n",
      " |  \n",
      " |  Methods defined here:\n",
      " |  \n",
      " |  __bool__(self)\n",
      " |  \n",
      " |  __contains__(self, included)\n",
      " |      Inclusion\n",
      " |      \n",
      " |      Use expression 'segment in annotation' or 'timeline in annotation'\n",
      " |      \n",
      " |      Parameters\n",
      " |      ----------\n",
      " |      included : `Segment` or `Timeline`\n",
      " |      \n",
      " |      Returns\n",
      " |      -------\n",
      " |      contains : bool\n",
      " |          True if every segment in `included` exists in annotation\n",
      " |          False otherwise\n",
      " |  \n",
      " |  __delitem__(self, key)\n",
      " |  \n",
      " |  __eq__(self, other)\n",
      " |  \n",
      " |  __getitem__(self, key)\n",
      " |      # label = annotation[segment, track]\n",
      " |  \n",
      " |  __init__(self, uri=None, modality=None)\n",
      " |  \n",
      " |  __len__(self)\n",
      " |      Number of segments\n",
      " |  \n",
      " |  __mod__(self, translation)\n",
      " |  \n",
      " |  __ne__(self, other)\n",
      " |  \n",
      " |  __nonzero__(self)\n",
      " |  \n",
      " |  __setitem__(self, key, label)\n",
      " |      # annotation[segment, track] = label\n",
      " |  \n",
      " |  __str__(self)\n",
      " |      Human-friendly representation\n",
      " |  \n",
      " |  anonymize_labels(self, generator=u'string')\n",
      " |      Anonmyize labels\n",
      " |      \n",
      " |      Create a new annotation where labels are anonymized.\n",
      " |      \n",
      " |      Parameters\n",
      " |      ----------\n",
      " |      generator : {'string', 'int', iterator}, optional\n",
      " |      \n",
      " |      Returns\n",
      " |      -------\n",
      " |      anonymized : :class:`Annotation`\n",
      " |          New annotation with anonymized labels.\n",
      " |  \n",
      " |  anonymize_tracks(self, generator=u'string')\n",
      " |      Anonymize tracks\n",
      " |      \n",
      " |      Create a new annotation where each track has a unique label.\n",
      " |      \n",
      " |      Parameters\n",
      " |      ----------\n",
      " |      generator : {'string', 'int', iterator}, optional\n",
      " |          Default to 'string'.\n",
      " |      \n",
      " |      Returns\n",
      " |      -------\n",
      " |      anonymized : `Annotation`\n",
      " |          New annotation with anonymized tracks.\n",
      " |  \n",
      " |  argmax(self, segment=None, known_first=False)\n",
      " |      Get most frequent label\n",
      " |      \n",
      " |      \n",
      " |      Parameters\n",
      " |      ----------\n",
      " |      segment : Segment, optional\n",
      " |          Section of annotation where to look for the most frequent label.\n",
      " |          Defaults to whole annotation extent.\n",
      " |      known_first: bool, optional\n",
      " |          If True, artificially reduces the duration of intersection of\n",
      " |          `Unknown` labels so that 'known' labels are returned first.\n",
      " |      \n",
      " |      Returns\n",
      " |      -------\n",
      " |      label : any existing label or None\n",
      " |          Label with longest intersection\n",
      " |      \n",
      " |      Examples\n",
      " |      --------\n",
      " |      \n",
      " |          >>> annotation = Annotation(modality='speaker')\n",
      " |          >>> annotation[Segment(0, 10), 'speaker1'] = 'Alice'\n",
      " |          >>> annotation[Segment(8, 20), 'speaker1'] = 'Bob'\n",
      " |          >>> print \"%s is such a talker!\" % annotation.argmax()\n",
      " |          Bob is such a talker!\n",
      " |          >>> segment = Segment(22, 23)\n",
      " |          >>> if not annotation.argmax(segment):\n",
      " |          ...    print \"No label intersecting %s\" % segment\n",
      " |          No label intersection [22 --> 23]\n",
      " |  \n",
      " |  chart(self, percent=False)\n",
      " |      Label chart based on their duration\n",
      " |      \n",
      " |      Parameters\n",
      " |      ----------\n",
      " |      percent : bool, optional\n",
      " |          Return total duration percentage (rather than raw duration)\n",
      " |      \n",
      " |      Returns\n",
      " |      -------\n",
      " |      chart : (label, duration) iterable\n",
      " |          Sorted from longest to shortest.\n",
      " |  \n",
      " |  co_iter(self, other)\n",
      " |      Parameters\n",
      " |      ----------\n",
      " |      other : Annotation\n",
      " |      \n",
      " |      Generates\n",
      " |      ---------\n",
      " |      (segment, track), (other_segment, other_track)\n",
      " |  \n",
      " |  copy(self)\n",
      " |  \n",
      " |  crop(self, other, mode=u'intersection')\n",
      " |      Crop annotation\n",
      " |      \n",
      " |      Parameters\n",
      " |      ----------\n",
      " |      other : `Segment` or `Timeline`\n",
      " |      \n",
      " |      mode : {'strict', 'loose', 'intersection'}\n",
      " |          In 'strict' mode, only segments fully included in focus coverage\n",
      " |          are kept. In 'loose' mode, any intersecting segment is kept\n",
      " |          unchanged. In 'intersection' mode, only intersecting segments are\n",
      " |          kept and replaced by their actual intersection with the focus.\n",
      " |      \n",
      " |      Returns\n",
      " |      -------\n",
      " |      cropped : Annotation\n",
      " |      \n",
      " |      Remarks\n",
      " |      -------\n",
      " |      In 'intersection' mode, the best is done to keep the track names\n",
      " |      unchanged. However, in some cases where two original segments are\n",
      " |      cropped into the same resulting segments, conflicting track names are\n",
      " |      modified to make sure no track is lost.\n",
      " |  \n",
      " |  empty(self)\n",
      " |  \n",
      " |  for_json(self)\n",
      " |  \n",
      " |  get_labels(self, segment, unknown=True, unique=True)\n",
      " |      Local set of labels\n",
      " |      \n",
      " |      Parameters\n",
      " |      ----------\n",
      " |      segment : Segment\n",
      " |          Segments to get label from.\n",
      " |      unknown : bool, optional\n",
      " |          When False, do not return Unknown instances\n",
      " |          When True, return any label (even Unknown instances)\n",
      " |      unique : bool, optional\n",
      " |          When False, return the list of (possibly repeated) labels.\n",
      " |          When True (default), return the set of labels\n",
      " |      Returns\n",
      " |      -------\n",
      " |      labels : set\n",
      " |          Set of labels for `segment` if it exists, empty set otherwise.\n",
      " |      \n",
      " |      Examples\n",
      " |      --------\n",
      " |      \n",
      " |          >>> annotation = Annotation()\n",
      " |          >>> segment = Segment(0, 2)\n",
      " |          >>> annotation[segment, 'speaker1'] = 'Bernard'\n",
      " |          >>> annotation[segment, 'speaker2'] = 'John'\n",
      " |          >>> print sorted(annotation.get_labels(segment))\n",
      " |          set(['Bernard', 'John'])\n",
      " |          >>> print annotation.get_labels(Segment(1, 2))\n",
      " |          set([])\n",
      " |  \n",
      " |  get_timeline(self)\n",
      " |      Get timeline made of annotated segments\n",
      " |  \n",
      " |  get_track_by_name(self, track)\n",
      " |      Get all tracks with given name\n",
      " |      \n",
      " |      Parameters\n",
      " |      ----------\n",
      " |      track : any valid track name\n",
      " |          Requested name track\n",
      " |      \n",
      " |      Returns\n",
      " |      -------\n",
      " |      tracks : list\n",
      " |          List of (segment, track) tuples\n",
      " |  \n",
      " |  get_tracks(self, segment)\n",
      " |      Set of tracks for query segment\n",
      " |      \n",
      " |      Parameters\n",
      " |      ----------\n",
      " |      segment : `Segment`\n",
      " |          Query segment\n",
      " |      \n",
      " |      Returns\n",
      " |      -------\n",
      " |      tracks : set\n",
      " |          Set of tracks for query segment\n",
      " |  \n",
      " |  has_track(self, segment, track)\n",
      " |      Check whether a given track exists\n",
      " |      \n",
      " |      Parameters\n",
      " |      ----------\n",
      " |      segment : `Segment`\n",
      " |          Query segment\n",
      " |      track :\n",
      " |          Query track\n",
      " |      \n",
      " |      Returns\n",
      " |      -------\n",
      " |      exists : bool\n",
      " |          True if track exists for segment\n",
      " |  \n",
      " |  itersegments(self)\n",
      " |      Segment iterator\n",
      " |  \n",
      " |  itertracks(self, label=False)\n",
      " |  \n",
      " |  label_coverage(self, label)\n",
      " |      Parameters\n",
      " |      ----------\n",
      " |      label :\n",
      " |      \n",
      " |      Returns\n",
      " |      -------\n",
      " |  \n",
      " |  label_duration(self, label)\n",
      " |  \n",
      " |  label_timeline(self, label)\n",
      " |      Get timeline for a given label\n",
      " |      \n",
      " |      Parameters\n",
      " |      ----------\n",
      " |      label :\n",
      " |      \n",
      " |      Returns\n",
      " |      -------\n",
      " |      timeline : :class:`Timeline`\n",
      " |          Timeline made of all segments annotated with `label`\n",
      " |  \n",
      " |  labels(self, unknown=True)\n",
      " |      List of labels\n",
      " |      \n",
      " |      Parameters\n",
      " |      ----------\n",
      " |      unknown : bool, optional\n",
      " |          When False, do not return Unknown instances\n",
      " |          When True, return any label (even Unknown instances)\n",
      " |      \n",
      " |      Returns\n",
      " |      -------\n",
      " |      labels : list\n",
      " |          Sorted list of labels\n",
      " |  \n",
      " |  new_track(self, segment, candidate=None, prefix=None)\n",
      " |      Track name generator\n",
      " |      \n",
      " |      Parameters\n",
      " |      ----------\n",
      " |      segment : Segment\n",
      " |      prefix : str, optional\n",
      " |      candidate : any valid track name\n",
      " |      \n",
      " |      Returns\n",
      " |      -------\n",
      " |      track : str\n",
      " |          New track name\n",
      " |  \n",
      " |  retrack(self)\n",
      " |  \n",
      " |  smooth(self, collar=0.0)\n",
      " |      Smooth annotation\n",
      " |      \n",
      " |      Create new annotation where contiguous tracks with same label are\n",
      " |      merged into one longer track.\n",
      " |      \n",
      " |      Parameters\n",
      " |      ----------\n",
      " |      collar : float\n",
      " |          If collar is positive, also merge tracks separated by less than\n",
      " |          collar duration.\n",
      " |      \n",
      " |      Returns\n",
      " |      -------\n",
      " |      annotation : Annotation\n",
      " |          New annotation where contiguous tracks with same label are merged\n",
      " |          into one long track.\n",
      " |      \n",
      " |      Remarks\n",
      " |      -------\n",
      " |          Track names are lost in the process.\n",
      " |  \n",
      " |  subset(self, labels, invert=False)\n",
      " |      Annotation subset\n",
      " |      \n",
      " |      Extract annotation subset based on labels\n",
      " |      \n",
      " |      Parameters\n",
      " |      ----------\n",
      " |      labels : iterable\n",
      " |          Label iterable.\n",
      " |      invert : bool, optional\n",
      " |          If invert is True, extract all but requested `labels`\n",
      " |      \n",
      " |      Returns\n",
      " |      -------\n",
      " |      subset : `Annotation`\n",
      " |          Annotation subset.\n",
      " |  \n",
      " |  translate(self, translation)\n",
      " |      Translate labels\n",
      " |      \n",
      " |      Parameters\n",
      " |      ----------\n",
      " |      translation: dict\n",
      " |          Label translation.\n",
      " |          Labels with no associated translation are kept unchanged.\n",
      " |      \n",
      " |      Returns\n",
      " |      -------\n",
      " |      translated : :class:`Annotation`\n",
      " |          New annotation with translated labels.\n",
      " |  \n",
      " |  update(self, annotation)\n",
      " |      Update existing annotations or create new ones\n",
      " |      \n",
      " |      Parameters\n",
      " |      ----------\n",
      " |      annotation : Annotation\n",
      " |          Updated (or new) annotations\n",
      " |      \n",
      " |      Returns\n",
      " |      -------\n",
      " |      self : Annotation\n",
      " |          Updated annotations.\n",
      " |  \n",
      " |  ----------------------------------------------------------------------\n",
      " |  Class methods defined here:\n",
      " |  \n",
      " |  from_df(cls, df, uri=None, modality=None) from __builtin__.type\n",
      " |      Parameters\n",
      " |      ----------\n",
      " |      df : DataFrame\n",
      " |          Must contain the following columns: 'segment', 'track' and 'label'\n",
      " |      uri : str, optional\n",
      " |          Resource identifier\n",
      " |      modality : str, optional\n",
      " |          Modality\n",
      " |      \n",
      " |      Returns\n",
      " |      -------\n",
      " |  \n",
      " |  from_json(cls, data) from __builtin__.type\n",
      " |  \n",
      " |  ----------------------------------------------------------------------\n",
      " |  Data descriptors defined here:\n",
      " |  \n",
      " |  __dict__\n",
      " |      dictionary for instance variables (if defined)\n",
      " |  \n",
      " |  __weakref__\n",
      " |      list of weak references to the object (if defined)\n",
      " |  \n",
      " |  uri\n",
      " |      Resource identifier\n",
      "\n"
     ]
    }
   ],
   "source": [
    "help(Annotation)"
   ]
  }
 ],
 "metadata": {
  "kernelspec": {
   "display_name": "Python 3",
   "language": "python",
   "name": "python3"
  },
  "language_info": {
   "codemirror_mode": {
    "name": "ipython",
    "version": 3
   },
   "file_extension": ".py",
   "mimetype": "text/x-python",
   "name": "python",
   "nbconvert_exporter": "python",
   "pygments_lexer": "ipython3",
   "version": "3.7.4"
  }
 },
 "nbformat": 4,
 "nbformat_minor": 4
}
